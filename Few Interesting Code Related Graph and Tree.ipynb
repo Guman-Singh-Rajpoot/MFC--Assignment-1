{
 "cells": [
  {
   "cell_type": "markdown",
   "metadata": {},
   "source": [
    "Adjcent list representation of gragh"
   ]
  },
  {
   "cell_type": "code",
   "execution_count": 1,
   "metadata": {},
   "outputs": [],
   "source": [
    "graph_dic={'A':['D','C','B'],'B':['A'],'C':['F','E','A'],'D':['A','F'],'E':['C'],\"F\":['C','D']}"
   ]
  },
  {
   "cell_type": "markdown",
   "metadata": {},
   "source": [
    "Adjcent matrix representation of graph"
   ]
  },
  {
   "cell_type": "code",
   "execution_count": 2,
   "metadata": {},
   "outputs": [],
   "source": [
    "adjcent_matrix=[[0,1,1,1,0,0],[1,0,0,0,0,0],[1,0,0,0,1,1],[1,0,0,0,0,1],[0,0,1,0,0,0],[0,0,1,1,0,0]]\n",
    "node_names=['A','B','C','D','E','F']\n"
   ]
  },
  {
   "cell_type": "markdown",
   "metadata": {},
   "source": [
    "Edge list representation "
   ]
  },
  {
   "cell_type": "code",
   "execution_count": 3,
   "metadata": {},
   "outputs": [],
   "source": [
    "Edge_list=[('A','B'),('A','C'),('A','D'),('B','A'),('C','A'),('C','E'),('C','F'),('D','A'),('D','F'),('E','C'),('F','C'),('F','D')]\n"
   ]
  },
  {
   "cell_type": "markdown",
   "metadata": {},
   "source": [
    "From all types representation, find degrees of nodes"
   ]
  },
  {
   "cell_type": "code",
   "execution_count": 4,
   "metadata": {},
   "outputs": [
    {
     "data": {
      "text/plain": [
       "{'A': 3, 'B': 1, 'C': 3, 'D': 2, 'E': 1, 'F': 2}"
      ]
     },
     "execution_count": 4,
     "metadata": {},
     "output_type": "execute_result"
    }
   ],
   "source": [
    "def showDegree_Node(graph,nodes):\n",
    "    nodeDegree_dict={}\n",
    "    if type(graph)==dict:\n",
    "        for key in graph.keys():\n",
    "            count=0\n",
    "            for i in graph[key]:\n",
    "                count+=1\n",
    "            nodeDegree_dict[key]= count\n",
    "        return nodeDegree_dict\n",
    "    else:\n",
    "        if type(graph[0])==list:\n",
    "            \n",
    "            for row in range(len(graph)):\n",
    "                count=0\n",
    "                for  j in graph[row]:\n",
    "                    if j==1:\n",
    "                        count+=1\n",
    "                nodeDegree_dict[nodes[row]]=count\n",
    "        else:\n",
    "            for node in nodes:\n",
    "                count=0\n",
    "                for k in graph:\n",
    "                    if k[0]==node:\n",
    "                        count+=1\n",
    "                nodeDegree_dict[node]=count\n",
    "    return nodeDegree_dict\n",
    "showDegree_Node(graph_dic,node_names)\n"
   ]
  },
  {
   "cell_type": "markdown",
   "metadata": {},
   "source": [
    "Inter converse of all type representation of graph"
   ]
  },
  {
   "cell_type": "code",
   "execution_count": 5,
   "metadata": {},
   "outputs": [
    {
     "data": {
      "text/plain": [
       "[[0, 1, 1, 1, 0, 0],\n",
       " [1, 0, 0, 0, 0, 0],\n",
       " [1, 0, 0, 0, 1, 1],\n",
       " [1, 0, 0, 0, 0, 1],\n",
       " [0, 0, 1, 0, 0, 0],\n",
       " [0, 0, 1, 1, 0, 0]]"
      ]
     },
     "execution_count": 5,
     "metadata": {},
     "output_type": "execute_result"
    }
   ],
   "source": [
    "def Inter_coversen_adjcent_matrix_and_adjcent_list(data,nodes):\n",
    "    adjcent_matrix=[]\n",
    "    adjcent_list={}\n",
    "    edge_list=[]\n",
    "    if type(data)==dict:\n",
    "        for key in data.keys():\n",
    "            row=[]\n",
    "            for node in nodes:\n",
    "                if node in data[key]:\n",
    "                    row.append(1)\n",
    "                else:\n",
    "                    row.append(0)\n",
    "            adjcent_matrix.append(row)\n",
    "        return adjcent_matrix \n",
    "    elif type(data[0])==list:\n",
    "        for i in range( len(data)):\n",
    "            row=[]\n",
    "            for j in range(len(data[i])):\n",
    "                if data[i][j]==1:\n",
    "                    row.append(nodes[j])\n",
    "            adjcent_list[nodes[i]]=row\n",
    "        return adjcent_list \n",
    "def inter_coversen_edge_list_and_adjcent_list(data,nodes):\n",
    "    adjcent_list={}\n",
    "    if type(data)==list:\n",
    "        if type(data[0])==tuple:\n",
    "            for i in range(len(nodes)):\n",
    "                val=[]\n",
    "                for j in range(len(data)):\n",
    "                    if data[j][0]==nodes[i]:\n",
    "                        val.append(data[j][1])            \n",
    "                adjcent_list[nodes[i]]=val\n",
    "            return adjcent_list        \n",
    "    elif type(data)==dict:\n",
    "        edge_list=[]\n",
    "        for key in data.keys():\n",
    "            for value in data[key]:\n",
    "                edge_list.append((key,value))\n",
    "        return edge_list      \n",
    "def inter_coversen_edge_list_and_adjcent_maatrix(data,nodes):\n",
    "    if type(data[0])==tuple:\n",
    "        adjcent_matrix=[]\n",
    "        for i in range(len(nodes)):\n",
    "            val=[0]*len(nodes)\n",
    "            for item in data:\n",
    "                if item[0]==nodes[i]:\n",
    "                    val[nodes.index(item[1])]=1\n",
    "            adjcent_matrix.append(val)\n",
    "        return adjcent_matrix\n",
    "    elif type(data[0])==list:\n",
    "        edge_list=[]\n",
    "        for i in range(len(data)):\n",
    "            for j in range(len(data[i])):\n",
    "                if data[i][j] ==1:\n",
    "                  edge_list.append((nodes[i],nodes[j]))\n",
    "        return edge_list          \n",
    "\n",
    "inter_coversen_edge_list_and_adjcent_maatrix(Edge_list,node_names)                \n",
    "\n",
    "\n",
    "    "
   ]
  },
  {
   "cell_type": "markdown",
   "metadata": {},
   "source": [
    "Check two nodes are adjacency or not"
   ]
  },
  {
   "cell_type": "code",
   "execution_count": 6,
   "metadata": {},
   "outputs": [
    {
     "data": {
      "text/plain": [
       "True"
      ]
     },
     "execution_count": 6,
     "metadata": {},
     "output_type": "execute_result"
    }
   ],
   "source": [
    "graph_dic={'A':['D','C','B'],'B':['A'],'C':['F','E','A'],'D':['A','F'],'E':['C'],\"F\":['C','D']}\n",
    "def check_adjcency(vertic1,vertic2):\n",
    "    if vertic1 in graph_dic[vertic2]:\n",
    "        return True\n",
    "    else:\n",
    "        return False\n",
    "check_adjcency('A','B')    \n",
    "    \n",
    "\n"
   ]
  },
  {
   "cell_type": "markdown",
   "metadata": {},
   "source": [
    "To check complete graph"
   ]
  },
  {
   "cell_type": "code",
   "execution_count": 7,
   "metadata": {},
   "outputs": [
    {
     "data": {
      "text/plain": [
       "False"
      ]
     },
     "execution_count": 7,
     "metadata": {},
     "output_type": "execute_result"
    }
   ],
   "source": [
    "adjcent_matrix=[[0,1,1,1,0,0],[1,0,0,0,0,0],[1,0,0,0,1,1],[1,0,0,0,0,1],[0,0,1,0,0,0],[0,0,1,1,0,0]]\n",
    "node_names=['A','B','C','D','E','F']\n",
    "def check_complete_gragh(matrix):\n",
    "    \n",
    "    for i in range(len(matrix)):\n",
    "        for j in range(len(matrix[0])):\n",
    "            if i!=j:\n",
    "                if matrix[i][j]!=1:\n",
    "                    return False\n",
    "    return True            \n",
    "    \n",
    "check_complete_gragh(adjcent_matrix)            "
   ]
  },
  {
   "cell_type": "markdown",
   "metadata": {},
   "source": [
    "To check connected graph"
   ]
  },
  {
   "cell_type": "code",
   "execution_count": 8,
   "metadata": {},
   "outputs": [
    {
     "data": {
      "text/plain": [
       "['A', 'D', 'C', 'B', 'F', 'E']"
      ]
     },
     "execution_count": 8,
     "metadata": {},
     "output_type": "execute_result"
    }
   ],
   "source": [
    "def Check_graph_connected(graph,node_names):\n",
    "    visited_list=[node_names[0]]\n",
    "    queue=[node_names[0]]\n",
    "    while len(queue)!=0:\n",
    "        for node in graph[queue[0]]:\n",
    "            if node not in  visited_list:\n",
    "                visited_list.append(node)\n",
    "                queue.append(node)\n",
    "        queue.pop(0)\n",
    "    return visited_list            \n",
    "Check_graph_connected(graph_dic,node_names)            "
   ]
  },
  {
   "cell_type": "markdown",
   "metadata": {},
   "source": [
    "checking of walk"
   ]
  },
  {
   "cell_type": "code",
   "execution_count": 9,
   "metadata": {},
   "outputs": [
    {
     "data": {
      "text/plain": [
       "False"
      ]
     },
     "execution_count": 9,
     "metadata": {},
     "output_type": "execute_result"
    }
   ],
   "source": [
    "node_names=['A','B','C','D','E','F']\n",
    "def Check_walk(graph,seq_list):\n",
    "    for i in range(len(seq_list)-1):\n",
    "            if seq_list[i+1]  not in graph[seq_list[i]]:\n",
    "                return False\n",
    "    return True\n",
    "Check_walk(graph_dic,node_names)            "
   ]
  },
  {
   "cell_type": "markdown",
   "metadata": {},
   "source": [
    "checking of trail"
   ]
  },
  {
   "cell_type": "code",
   "execution_count": 10,
   "metadata": {},
   "outputs": [
    {
     "data": {
      "text/plain": [
       "True"
      ]
     },
     "execution_count": 10,
     "metadata": {},
     "output_type": "execute_result"
    }
   ],
   "source": [
    "def Check_trail(graph,seq_list):\n",
    "    trail_edge_list=[]\n",
    "    for i in range(len(seq_list)):\n",
    "        for j in range(i+1,len(seq_list)):\n",
    "            trail_edge_list.append((seq_list[i],seq_list[j]))\n",
    "    for edge in trail_edge_list:\n",
    "        if edge in graph:\n",
    "            r_edge=[]\n",
    "            for k in range(len(edge)):\n",
    "                r_edge.append(edge[-1-k])\n",
    "        if tuple(r_edge) in trail_edge_list:\n",
    "            return False\n",
    "    else:\n",
    "        return True    \n",
    "Check_trail(Edge_list,node_names)        \n",
    "\n",
    "          "
   ]
  },
  {
   "cell_type": "markdown",
   "metadata": {},
   "source": [
    "Check for path"
   ]
  },
  {
   "cell_type": "code",
   "execution_count": 11,
   "metadata": {},
   "outputs": [
    {
     "data": {
      "text/plain": [
       "True"
      ]
     },
     "execution_count": 11,
     "metadata": {},
     "output_type": "execute_result"
    }
   ],
   "source": [
    "def Check_path(graph, seq_list):\n",
    "    check_list=[]\n",
    "    if (Check_trail(graph ,seq_list)):\n",
    "        for node in seq_list:\n",
    "              if node in check_list:\n",
    "                   return False\n",
    "              else:\n",
    "                   check_list.append(node)\n",
    "        return True\n",
    "    else:\n",
    "         return False\n",
    "Check_path(Edge_list,node_names)               \n",
    "\n"
   ]
  },
  {
   "cell_type": "code",
   "execution_count": 12,
   "metadata": {},
   "outputs": [],
   "source": [
    "def is_tree(graph):\n",
    "    visited = set()\n",
    "\n",
    "    def dfs(node, parent):\n",
    "        visited.add(node)\n",
    "        for neighbor in graph[node]:\n",
    "            if neighbor == parent:\n",
    "                continue\n",
    "            if neighbor in visited or not dfs(neighbor, node):\n",
    "                return False\n",
    "        return True\n",
    "\n",
    "    start_node = next(iter(graph))\n",
    "    return dfs(start_node, None) and len(visited) == len(graph)\n"
   ]
  },
  {
   "cell_type": "code",
   "execution_count": 13,
   "metadata": {},
   "outputs": [],
   "source": [
    "def get_spanning_tree(graph):\n",
    "    visited = set()\n",
    "    spanning_tree = {node: [] for node in graph}\n",
    "\n",
    "    def dfs(node):\n",
    "        visited.add(node)\n",
    "        for neighbor in graph[node]:\n",
    "            if neighbor not in visited:\n",
    "                spanning_tree[node].append(neighbor)\n",
    "                spanning_tree[neighbor].append(node)\n",
    "                dfs(neighbor)\n",
    "\n",
    "    start_node = next(iter(graph))\n",
    "    dfs(start_node)\n",
    "    return spanning_tree\n"
   ]
  },
  {
   "cell_type": "code",
   "execution_count": 14,
   "metadata": {},
   "outputs": [],
   "source": [
    "def count_leaf_nodes(tree):\n",
    "    return sum(1 for node in tree if len(tree[node]) == 1 or (len(tree) == 1 and len(tree[node]) == 0))\n"
   ]
  },
  {
   "cell_type": "code",
   "execution_count": 15,
   "metadata": {},
   "outputs": [],
   "source": [
    "def is_binary_tree(tree):\n",
    "    return all(len(neighbors) <= 3 for neighbors in tree.values())\n"
   ]
  },
  {
   "cell_type": "code",
   "execution_count": 16,
   "metadata": {},
   "outputs": [],
   "source": [
    "def height(tree, node, parent=None):\n",
    "    if len(tree[node]) == 1 and parent is not None:\n",
    "        return 0\n",
    "    return max((height(tree, child, node) for child in tree[node] if child != parent), default=0) + 1\n"
   ]
  },
  {
   "cell_type": "code",
   "execution_count": 17,
   "metadata": {},
   "outputs": [],
   "source": [
    "def depth(tree, root, target, current_depth=0, visited=None):\n",
    "    if visited is None:\n",
    "        visited = set()\n",
    "    if root == target:\n",
    "        return current_depth\n",
    "    visited.add(root)\n",
    "    for neighbor in tree[root]:\n",
    "        if neighbor not in visited:\n",
    "            d = depth(tree, neighbor, target, current_depth + 1, visited)\n",
    "            if d != -1:\n",
    "                return d\n",
    "    return -1\n"
   ]
  }
 ],
 "metadata": {
  "kernelspec": {
   "display_name": "Python 3",
   "language": "python",
   "name": "python3"
  },
  "language_info": {
   "codemirror_mode": {
    "name": "ipython",
    "version": 3
   },
   "file_extension": ".py",
   "mimetype": "text/x-python",
   "name": "python",
   "nbconvert_exporter": "python",
   "pygments_lexer": "ipython3",
   "version": "3.12.5"
  }
 },
 "nbformat": 4,
 "nbformat_minor": 2
}
